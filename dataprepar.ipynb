{
 "cells": [
  {
   "cell_type": "code",
   "execution_count": 1,
   "id": "potential-conditions",
   "metadata": {},
   "outputs": [],
   "source": [
    "import os\n",
    "import pandas as pd"
   ]
  },
  {
   "cell_type": "code",
   "execution_count": null,
   "id": "overall-reporter",
   "metadata": {
    "scrolled": true
   },
   "outputs": [],
   "source": [
    "category_list = ['C01', 'C02', 'C03', 'C04', 'C05', 'C06', 'C07', 'C08', 'C09', 'C10', 'C11', 'C12', 'C13', 'C14', 'C15', 'C16', 'C17', 'C18', 'C19', 'C20', 'C21', 'C22', 'C23']\n",
    "\n",
    "df = pd.DataFrame([], columns = [\"file_name\", \"doc\"] + category_list)\n",
    "\n",
    "category_len = len(category_list)\n",
    "category_index_dict = dict(zip(category_list, list(range(category_len))))\n",
    "\n",
    "for category in category_list:\n",
    "    file_names = os.listdir('./ohsumed-first-20000-docs/test/'+category)\n",
    "    for file in file_names:\n",
    "        df_file_name = df.loc[(df['file_name'] == file)]\n",
    "        if df_file_name.empty:\n",
    "            data = [0] * category_len\n",
    "            data[category_index_dict[category]] = 1\n",
    "            if file[0] == '.':\n",
    "                continue\n",
    "            abstract = open('./ohsumed-first-20000-docs/test/'+category+'/'+file, 'r').read()\n",
    "            data = [file, abstract] + data\n",
    "            df = df.append(pd.DataFrame([data], columns = [\"file_name\", \"doc\"] + category_list), ignore_index=True)\n",
    "        else:\n",
    "            # chack for duplicates\n",
    "            if len(df_file_name) > 1:\n",
    "                raise Exception(\"Duplicates have found!\")\n",
    "            else:\n",
    "                file_index = df.index[df['file_name'] == file][0]\n",
    "                df.at[file_index, category] = 1\n",
    "df.to_csv('ohsumed-file-test.csv', index=False)"
   ]
  },
  {
   "cell_type": "code",
   "execution_count": null,
   "id": "concerned-roberts",
   "metadata": {},
   "outputs": [],
   "source": [
    "category_list = ['C01', 'C02', 'C03', 'C04', 'C05', 'C06', 'C07', 'C08', 'C09', 'C10', 'C11', 'C12', 'C13', 'C14', 'C15', 'C16', 'C17', 'C18', 'C19', 'C20', 'C21', 'C22', 'C23']\n",
    "\n",
    "df = pd.DataFrame([], columns = [\"file_name\", \"doc\"] + category_list)\n",
    "\n",
    "category_len = len(category_list)\n",
    "category_index_dict = dict(zip(category_list, list(range(category_len))))\n",
    "\n",
    "for category in category_list:\n",
    "    file_names = os.listdir('./ohsumed-first-20000-docs/train/'+category)\n",
    "    for file in file_names:\n",
    "        df_file_name = df.loc[(df['file_name'] == file)]\n",
    "        if df_file_name.empty:\n",
    "            data = [0] * category_len\n",
    "            data[category_index_dict[category]] = 1\n",
    "            if file[0] == '.':\n",
    "                continue\n",
    "            abstract = open('./ohsumed-first-20000-docs/test/'+category+'/'+file, 'r').read()\n",
    "            data = [file, abstract] + data\n",
    "            df = df.append(pd.DataFrame([data], columns = [\"file_name\", \"doc\"] + category_list), ignore_index=True)\n",
    "        else:\n",
    "            # chack for duplicates\n",
    "            if len(df_file_name) > 1:\n",
    "                raise Exception(\"Duplicates have found!\")\n",
    "            else:\n",
    "                file_index = df.index[df['file_name'] == file][0]\n",
    "                df.at[file_index, category] = 1\n",
    "df.to_csv('ohsumed-file-train.csv', index=False)"
   ]
  }
 ],
 "metadata": {
  "kernelspec": {
   "display_name": "Python 3",
   "language": "python",
   "name": "python3"
  },
  "language_info": {
   "codemirror_mode": {
    "name": "ipython",
    "version": 3
   },
   "file_extension": ".py",
   "mimetype": "text/x-python",
   "name": "python",
   "nbconvert_exporter": "python",
   "pygments_lexer": "ipython3",
   "version": "3.6.12"
  }
 },
 "nbformat": 4,
 "nbformat_minor": 5
}
